{
 "cells": [
  {
   "cell_type": "markdown",
   "metadata": {},
   "source": [
    "## Observations and Insights"
   ]
  },
  {
   "cell_type": "markdown",
   "metadata": {},
   "source": []
  },
  {
   "cell_type": "markdown",
   "metadata": {},
   "source": [
    "## Dependencies and starter code"
   ]
  },
  {
   "cell_type": "code",
   "execution_count": 18,
   "metadata": {},
   "outputs": [
    {
     "data": {
      "text/html": [
       "<div>\n",
       "<style scoped>\n",
       "    .dataframe tbody tr th:only-of-type {\n",
       "        vertical-align: middle;\n",
       "    }\n",
       "\n",
       "    .dataframe tbody tr th {\n",
       "        vertical-align: top;\n",
       "    }\n",
       "\n",
       "    .dataframe thead th {\n",
       "        text-align: right;\n",
       "    }\n",
       "</style>\n",
       "<table border=\"1\" class=\"dataframe\">\n",
       "  <thead>\n",
       "    <tr style=\"text-align: right;\">\n",
       "      <th></th>\n",
       "      <th>Mouse ID</th>\n",
       "      <th>Drug Regimen</th>\n",
       "      <th>Sex</th>\n",
       "      <th>Age_months</th>\n",
       "      <th>Weight (g)</th>\n",
       "      <th>Timepoint</th>\n",
       "      <th>Tumor Volume (mm3)</th>\n",
       "      <th>Metastatic Sites</th>\n",
       "    </tr>\n",
       "  </thead>\n",
       "  <tbody>\n",
       "    <tr>\n",
       "      <th>0</th>\n",
       "      <td>k403</td>\n",
       "      <td>Ramicane</td>\n",
       "      <td>Male</td>\n",
       "      <td>21</td>\n",
       "      <td>16</td>\n",
       "      <td>0</td>\n",
       "      <td>45.000000</td>\n",
       "      <td>0</td>\n",
       "    </tr>\n",
       "    <tr>\n",
       "      <th>1</th>\n",
       "      <td>k403</td>\n",
       "      <td>Ramicane</td>\n",
       "      <td>Male</td>\n",
       "      <td>21</td>\n",
       "      <td>16</td>\n",
       "      <td>5</td>\n",
       "      <td>38.825898</td>\n",
       "      <td>0</td>\n",
       "    </tr>\n",
       "    <tr>\n",
       "      <th>2</th>\n",
       "      <td>k403</td>\n",
       "      <td>Ramicane</td>\n",
       "      <td>Male</td>\n",
       "      <td>21</td>\n",
       "      <td>16</td>\n",
       "      <td>10</td>\n",
       "      <td>35.014271</td>\n",
       "      <td>1</td>\n",
       "    </tr>\n",
       "    <tr>\n",
       "      <th>3</th>\n",
       "      <td>k403</td>\n",
       "      <td>Ramicane</td>\n",
       "      <td>Male</td>\n",
       "      <td>21</td>\n",
       "      <td>16</td>\n",
       "      <td>15</td>\n",
       "      <td>34.223992</td>\n",
       "      <td>1</td>\n",
       "    </tr>\n",
       "    <tr>\n",
       "      <th>4</th>\n",
       "      <td>k403</td>\n",
       "      <td>Ramicane</td>\n",
       "      <td>Male</td>\n",
       "      <td>21</td>\n",
       "      <td>16</td>\n",
       "      <td>20</td>\n",
       "      <td>32.997729</td>\n",
       "      <td>1</td>\n",
       "    </tr>\n",
       "  </tbody>\n",
       "</table>\n",
       "</div>"
      ],
      "text/plain": [
       "  Mouse ID Drug Regimen   Sex  Age_months  Weight (g)  Timepoint  \\\n",
       "0     k403     Ramicane  Male          21          16          0   \n",
       "1     k403     Ramicane  Male          21          16          5   \n",
       "2     k403     Ramicane  Male          21          16         10   \n",
       "3     k403     Ramicane  Male          21          16         15   \n",
       "4     k403     Ramicane  Male          21          16         20   \n",
       "\n",
       "   Tumor Volume (mm3)  Metastatic Sites  \n",
       "0           45.000000                 0  \n",
       "1           38.825898                 0  \n",
       "2           35.014271                 1  \n",
       "3           34.223992                 1  \n",
       "4           32.997729                 1  "
      ]
     },
     "execution_count": 18,
     "metadata": {},
     "output_type": "execute_result"
    }
   ],
   "source": [
    "# Dependencies and Setup\n",
    "import matplotlib.pyplot as plt\n",
    "import pandas as pd\n",
    "import scipy.stats as st\n",
    "import numpy as np\n",
    "\n",
    "\n",
    "# Study data files\n",
    "mouse_metadata = \"data/Mouse_metadata.csv\"\n",
    "study_results = \"data/Study_results.csv\"\n",
    "\n",
    "# Read the mouse data and the study results\n",
    "mouse_metadata = pd.read_csv(mouse_metadata)\n",
    "study_results = pd.read_csv(study_results)\n",
    "\n",
    "# Combine the data into a single dataset\n",
    "merged_df = pd.merge(mouse_metadata, study_results, on=\"Mouse ID\", how=\"outer\")\n",
    "merged_df.head()\n"
   ]
  },
  {
   "cell_type": "markdown",
   "metadata": {},
   "source": [
    "## Summary statistics"
   ]
  },
  {
   "cell_type": "code",
   "execution_count": 4,
   "metadata": {},
   "outputs": [
    {
     "data": {
      "text/html": [
       "<div>\n",
       "<style scoped>\n",
       "    .dataframe tbody tr th:only-of-type {\n",
       "        vertical-align: middle;\n",
       "    }\n",
       "\n",
       "    .dataframe tbody tr th {\n",
       "        vertical-align: top;\n",
       "    }\n",
       "\n",
       "    .dataframe thead th {\n",
       "        text-align: right;\n",
       "    }\n",
       "</style>\n",
       "<table border=\"1\" class=\"dataframe\">\n",
       "  <thead>\n",
       "    <tr style=\"text-align: right;\">\n",
       "      <th></th>\n",
       "      <th>Tumor Volume (mm3) Mean</th>\n",
       "      <th>Tumor Volume (mm3) Median</th>\n",
       "      <th>Tumor Volume (mm3) Variance</th>\n",
       "      <th>Tumor Volume (mm3) Standard Deviation</th>\n",
       "      <th>Tumor Volume (mm3) SEM</th>\n",
       "    </tr>\n",
       "    <tr>\n",
       "      <th>Drug Regimen</th>\n",
       "      <th></th>\n",
       "      <th></th>\n",
       "      <th></th>\n",
       "      <th></th>\n",
       "      <th></th>\n",
       "    </tr>\n",
       "  </thead>\n",
       "  <tbody>\n",
       "    <tr>\n",
       "      <th>Capomulin</th>\n",
       "      <td>40.675741</td>\n",
       "      <td>41.557809</td>\n",
       "      <td>24.947764</td>\n",
       "      <td>4.994774</td>\n",
       "      <td>0.329346</td>\n",
       "    </tr>\n",
       "    <tr>\n",
       "      <th>Ceftamin</th>\n",
       "      <td>52.591172</td>\n",
       "      <td>51.776157</td>\n",
       "      <td>39.290177</td>\n",
       "      <td>6.268188</td>\n",
       "      <td>0.469821</td>\n",
       "    </tr>\n",
       "    <tr>\n",
       "      <th>Infubinol</th>\n",
       "      <td>52.884795</td>\n",
       "      <td>51.820584</td>\n",
       "      <td>43.128684</td>\n",
       "      <td>6.567243</td>\n",
       "      <td>0.492236</td>\n",
       "    </tr>\n",
       "    <tr>\n",
       "      <th>Ketapril</th>\n",
       "      <td>55.235638</td>\n",
       "      <td>53.698743</td>\n",
       "      <td>68.553577</td>\n",
       "      <td>8.279709</td>\n",
       "      <td>0.603860</td>\n",
       "    </tr>\n",
       "    <tr>\n",
       "      <th>Naftisol</th>\n",
       "      <td>54.331565</td>\n",
       "      <td>52.509285</td>\n",
       "      <td>66.173479</td>\n",
       "      <td>8.134708</td>\n",
       "      <td>0.596466</td>\n",
       "    </tr>\n",
       "    <tr>\n",
       "      <th>Placebo</th>\n",
       "      <td>54.033581</td>\n",
       "      <td>52.288934</td>\n",
       "      <td>61.168083</td>\n",
       "      <td>7.821003</td>\n",
       "      <td>0.581331</td>\n",
       "    </tr>\n",
       "    <tr>\n",
       "      <th>Propriva</th>\n",
       "      <td>52.322552</td>\n",
       "      <td>50.854632</td>\n",
       "      <td>42.351070</td>\n",
       "      <td>6.507770</td>\n",
       "      <td>0.512884</td>\n",
       "    </tr>\n",
       "    <tr>\n",
       "      <th>Ramicane</th>\n",
       "      <td>40.216745</td>\n",
       "      <td>40.673236</td>\n",
       "      <td>23.486704</td>\n",
       "      <td>4.846308</td>\n",
       "      <td>0.320955</td>\n",
       "    </tr>\n",
       "    <tr>\n",
       "      <th>Stelasyn</th>\n",
       "      <td>54.233149</td>\n",
       "      <td>52.431737</td>\n",
       "      <td>59.450562</td>\n",
       "      <td>7.710419</td>\n",
       "      <td>0.573111</td>\n",
       "    </tr>\n",
       "    <tr>\n",
       "      <th>Zoniferol</th>\n",
       "      <td>53.236507</td>\n",
       "      <td>51.818479</td>\n",
       "      <td>48.533355</td>\n",
       "      <td>6.966589</td>\n",
       "      <td>0.516398</td>\n",
       "    </tr>\n",
       "  </tbody>\n",
       "</table>\n",
       "</div>"
      ],
      "text/plain": [
       "              Tumor Volume (mm3) Mean  Tumor Volume (mm3) Median  \\\n",
       "Drug Regimen                                                       \n",
       "Capomulin                   40.675741                  41.557809   \n",
       "Ceftamin                    52.591172                  51.776157   \n",
       "Infubinol                   52.884795                  51.820584   \n",
       "Ketapril                    55.235638                  53.698743   \n",
       "Naftisol                    54.331565                  52.509285   \n",
       "Placebo                     54.033581                  52.288934   \n",
       "Propriva                    52.322552                  50.854632   \n",
       "Ramicane                    40.216745                  40.673236   \n",
       "Stelasyn                    54.233149                  52.431737   \n",
       "Zoniferol                   53.236507                  51.818479   \n",
       "\n",
       "              Tumor Volume (mm3) Variance  \\\n",
       "Drug Regimen                                \n",
       "Capomulin                       24.947764   \n",
       "Ceftamin                        39.290177   \n",
       "Infubinol                       43.128684   \n",
       "Ketapril                        68.553577   \n",
       "Naftisol                        66.173479   \n",
       "Placebo                         61.168083   \n",
       "Propriva                        42.351070   \n",
       "Ramicane                        23.486704   \n",
       "Stelasyn                        59.450562   \n",
       "Zoniferol                       48.533355   \n",
       "\n",
       "              Tumor Volume (mm3) Standard Deviation  Tumor Volume (mm3) SEM  \n",
       "Drug Regimen                                                                 \n",
       "Capomulin                                  4.994774                0.329346  \n",
       "Ceftamin                                   6.268188                0.469821  \n",
       "Infubinol                                  6.567243                0.492236  \n",
       "Ketapril                                   8.279709                0.603860  \n",
       "Naftisol                                   8.134708                0.596466  \n",
       "Placebo                                    7.821003                0.581331  \n",
       "Propriva                                   6.507770                0.512884  \n",
       "Ramicane                                   4.846308                0.320955  \n",
       "Stelasyn                                   7.710419                0.573111  \n",
       "Zoniferol                                  6.966589                0.516398  "
      ]
     },
     "execution_count": 4,
     "metadata": {},
     "output_type": "execute_result"
    }
   ],
   "source": [
    "# Generate a summary statistics table of mean, median, variance, standard deviation, and SEM of the tumor volume for each regimen\n",
    "\n",
    "# Grouping by Drug Regimen, caclulate mean for each regimen.\n",
    "summary_stats_mean = merged_df.groupby(['Drug Regimen'])['Tumor Volume (mm3)'].mean()\n",
    "\n",
    "# Grouping by Drug Regimen, calculate median for each regimen.\n",
    "summary_stats_median = merged_df.groupby(['Drug Regimen'])['Tumor Volume (mm3)'].median()\n",
    "\n",
    "# Grouping by Drug Regimen, calculate variance for each regimen.\n",
    "summary_stats_variance = merged_df.groupby(['Drug Regimen'])['Tumor Volume (mm3)'].var()\n",
    "\n",
    "# Grouping by Drug Regimen, calculate standard deviation for each regimen.\n",
    "summary_stats_std = merged_df.groupby(['Drug Regimen'])['Tumor Volume (mm3)'].std()\n",
    "\n",
    "# Grouping by Drug Regimen, calculate the SEM (Standard Error of the Mean) for each regimen\n",
    "summary_stats_sem = merged_df.groupby(['Drug Regimen'])['Tumor Volume (mm3)'].sem()\n",
    "\n",
    "# Combine summary stats into one summary dataframe and rename columns.\n",
    "summary_stats_df = summary_stats_mean.to_frame().join(summary_stats_median, lsuffix=\" Mean\", rsuffix=\" Median\")\n",
    "summary_stats_df = summary_stats_df.join(summary_stats_variance)\n",
    "summary_stats_df = summary_stats_df.rename(columns={ \"Tumor Volume (mm3)\": \"Tumor Volume (mm3) Variance\"})\n",
    "summary_stats_df = summary_stats_df.join(summary_stats_std)\n",
    "summary_stats_df = summary_stats_df.rename(columns={ \"Tumor Volume (mm3)\": \"Tumor Volume (mm3) Standard Deviation\"})\n",
    "summary_stats_df = summary_stats_df.join(summary_stats_sem)\n",
    "summary_stats_df = summary_stats_df.rename(columns={ \"Tumor Volume (mm3)\": \"Tumor Volume (mm3) SEM\"})\n",
    "\n",
    "summary_stats_df"
   ]
  },
  {
   "cell_type": "markdown",
   "metadata": {},
   "source": [
    "## Bar plots"
   ]
  },
  {
   "cell_type": "code",
   "execution_count": 15,
   "metadata": {},
   "outputs": [
    {
     "name": "stdout",
     "output_type": "stream",
     "text": [
      "           Drug Regimen Data Count\n",
      "Capomulin                      230\n",
      "Ramicane                       228\n",
      "Ketapril                       188\n",
      "Naftisol                       186\n",
      "Zoniferol                      182\n",
      "Stelasyn                       181\n",
      "Placebo                        181\n",
      "Infubinol                      178\n",
      "Ceftamin                       178\n",
      "Propriva                       161\n"
     ]
    },
    {
     "data": {
      "text/plain": [
       "[]"
      ]
     },
     "execution_count": 15,
     "metadata": {},
     "output_type": "execute_result"
    },
    {
     "data": {
      "image/png": "[encoded data removed]",
      "text/plain": [
       "<Figure size 720x504 with 1 Axes>"
      ]
     },
     "metadata": {
      "needs_background": "light"
     },
     "output_type": "display_data"
    }
   ],
   "source": [
    "# Use valuecounts to get a total of regimen \n",
    "data_per = merged_df[\"Drug Regimen\"].value_counts()\n",
    "\n",
    "# Convert to dataframe \n",
    "data_points_df = pd.DataFrame(data_per)\n",
    "\n",
    "# Rename columns \n",
    "data_points_df = number_points_df.rename(columns={\n",
    "    \"Regimen\": \"Drug Regimen Count\"})\n",
    "\n",
    "# Print the dataframe\n",
    "print(number_points_df)\n",
    "\n",
    "# Create bar chart using pandas and add axis titles \n",
    "pandas_plot = data_per.plot(kind=\"bar\", figsize=(10,7))\n",
    "pandas_plot.set_title(\"Number of data points for each treatment regimen\")\n",
    "pandas_plot.set_ylabel(\"Number of data points\")\n",
    "pandas_plot.set_xlabel(\"Drug Regimen\")\n",
    "\n",
    "pandas_plot.plot()"
   ]
  },
  {
   "cell_type": "code",
   "execution_count": 20,
   "metadata": {},
   "outputs": [
    {
     "data": {
      "image/png": "[encoded data removed]",
      "text/plain": [
       "<Figure size 720x504 with 1 Axes>"
      ]
     },
     "metadata": {
      "needs_background": "light"
     },
     "output_type": "display_data"
    }
   ],
   "source": [
    "# Generate a bar plot showing number of data points for each treatment regimen using pyplot\n",
    "plt.figure(figsize= (10,7))\n",
    "\n",
    "# Create bar chart using matplotlib pyplot.\n",
    "\n",
    "x_axis = np.arange(len(number_points_df))\n",
    "plt.bar(x_axis, data_points_df[\"Drug Regimen Data Count\"], align=\"center\", width=0.50)\n",
    "\n",
    "# Add labels for axes and add a title for the graph.\n",
    "plt.xlabel(\"Drug Regimen\")\n",
    "plt.ylabel(\"Number of data points\")\n",
    "plt.title(\"Number of data points for each treatment regimen\")\n",
    "\n",
    "# Configure limits for x-axis and y-axis\n",
    "plt.xlim(-0.75, len(number_points_df)+0.25)\n",
    "plt.ylim(0, max(number_points_df[\"Drug Regimen Data Count\"])+50)\n",
    "\n",
    "# Show plot\n",
    "plt.show()"
   ]
  },
  {
   "cell_type": "markdown",
   "metadata": {},
   "source": [
    "## Pie plots"
   ]
  },
  {
   "cell_type": "code",
   "execution_count": 27,
   "metadata": {},
   "outputs": [
    {
     "name": "stdout",
     "output_type": "stream",
     "text": [
      "Sex\n",
      "Female    124\n",
      "Male      125\n",
      "Name: Mouse ID, dtype: int64\n"
     ]
    },
    {
     "data": {
      "text/plain": [
       "[]"
      ]
     },
     "execution_count": 27,
     "metadata": {},
     "output_type": "execute_result"
    },
    {
     "data": {
      "image/png": "[encoded data removed]",
      "text/plain": [
       "<Figure size 432x288 with 1 Axes>"
      ]
     },
     "metadata": {},
     "output_type": "display_data"
    }
   ],
   "source": [
    "# Generate a pie plot showing the distribution of female versus male mice using pandas\n",
    "#Group by mouse gender \n",
    "mouse_gender = merged_df.groupby(['Sex'])['Mouse ID'].nunique()\n",
    "print(mouse_gender)\n",
    "\n",
    "# Create pie chart using pandas.\n",
    "pandas_plot = mouse_gender.plot(kind=\"pie\", y=\"Mouse ID\", startangle=90, autopct=\"%1.1f%%\")\n",
    "\n",
    "# Add labels for axes and add a title for the graph.\n",
    "pandas_plot.set_title(\"Male vs. Female in Study.\")\n",
    "pandas_plot.set_ylabel('')\n",
    "pandas_plot.legend(loc='best')\n",
    "pandas_plot.plot()"
   ]
  },
  {
   "cell_type": "code",
   "execution_count": 34,
   "metadata": {},
   "outputs": [
    {
     "name": "stdout",
     "output_type": "stream",
     "text": [
      "        Mouse ID\n",
      "Sex             \n",
      "Female       124\n",
      "Male         125\n"
     ]
    },
    {
     "data": {
      "image/png": "[encoded data removed]",
      "text/plain": [
       "<Figure size 432x288 with 1 Axes>"
      ]
     },
     "metadata": {},
     "output_type": "display_data"
    }
   ],
   "source": [
    "# Generate a pie plot showing the distribution of female versus male mice using pyplot\n",
    "gender_df = pd.DataFrame(mouse_gender)\n",
    "\n",
    "# Print the dataframe\n",
    "print(gender_df)\n",
    "\n",
    "# Labels for the sections of our pie chart\n",
    "labels = list(gender_df.index.values)\n",
    "\n",
    "# The values of each section of the pie chart\n",
    "sizes = list(gender_df.loc[:, \"Mouse ID\"])\n",
    "\n",
    "# Plot using matplotlib\n",
    "plt.pie(sizes, labels=labels, autopct=\"%1.1f%%\", shadow=False, startangle=90)\n",
    "plt.title(\"Distribution of female versus male mice in the study\")\n",
    "plt.legend(loc=\"best\")\n",
    "plt.show()"
   ]
  },
  {
   "cell_type": "markdown",
   "metadata": {},
   "source": [
    "## Quartiles, outliers and boxplots"
   ]
  },
  {
   "cell_type": "code",
   "execution_count": 37,
   "metadata": {},
   "outputs": [
    {
     "name": "stdout",
     "output_type": "stream",
     "text": [
      "    Timepoint  Tumor Volume (mm3)\n",
      "10          0           45.000000\n",
      "11          5           43.878496\n",
      "12         10           37.614948\n",
      "13         15           38.177232\n",
      "14         20           36.866876\n",
      "15         25           33.949940\n",
      "16         30           32.959671\n",
      "17         35           28.328531\n",
      "18         40           25.472143\n",
      "19         45           23.343598\n"
     ]
    }
   ],
   "source": [
    "# Calculate the final tumor volume of each mouse across four of the most promising treatment regimens. Calculate the IQR and quantitatively determine if there are any potential outliers. \n",
    "best_mice = merged_df.set_index(\"Drug Regimen\")\n",
    "\n",
    "# Filter list to only include drug regimen of Capomulin\n",
    "best_mice = best_mice.loc[\"Capomulin\", [\"Mouse ID\", \"Tumor Volume (mm3)\"]]\n",
    "\n",
    "# Store a selected mouse as variable and get data\n",
    "mouse_id = \"s185\"\n",
    "mouse_s185 = merged_df.loc[merged_df[\"Mouse ID\"] == mouse_id, [\"Timepoint\", \"Tumor Volume (mm3)\"]]\n",
    "print(mouse_s185)"
   ]
  },
  {
   "cell_type": "code",
   "execution_count": 40,
   "metadata": {},
   "outputs": [
    {
     "data": {
      "text/plain": [
       "Text(0.5, 1.0, '')"
      ]
     },
     "execution_count": 40,
     "metadata": {},
     "output_type": "execute_result"
    },
    {
     "data": {
      "image/png": "[encoded data removed]",
      "text/plain": [
       "<Figure size 432x288 with 1 Axes>"
      ]
     },
     "metadata": {
      "needs_background": "light"
     },
     "output_type": "display_data"
    }
   ],
   "source": [
    "# Generate a box plot of the final tumor volume of each mouse across four regimens of interest\n",
    "best_mice.boxplot(column='Tumor Volume (mm3)', by='Mouse ID')\n",
    "plt.title(\"\")\n"
   ]
  },
  {
   "cell_type": "markdown",
   "metadata": {},
   "source": [
    "## Line and scatter plots"
   ]
  },
  {
   "cell_type": "code",
   "execution_count": 41,
   "metadata": {},
   "outputs": [
    {
     "data": {
      "text/plain": [
       "Text(0.5, 1.0, 'Tumor Volume (mm3) Over Time for Mouse s185 (treated with Capomulin)')"
      ]
     },
     "execution_count": 41,
     "metadata": {},
     "output_type": "execute_result"
    },
    {
     "data": {
      "image/png": "[encoded data removed]",
      "text/plain": [
       "<Figure size 432x288 with 1 Axes>"
      ]
     },
     "metadata": {
      "needs_background": "light"
     },
     "output_type": "display_data"
    }
   ],
   "source": [
    "# Generate a line plot of time point versus tumor volume for a mouse treated with Capomulin\n",
    "plt.plot(mouse_s185[\"Timepoint\"], mouse_s185[\"Tumor Volume (mm3)\"], linewidth=1, color=\"red\", marker=\"o\")\n",
    "\n",
    "# Add labels to axes and add title for graph.\n",
    "plt.xlabel(\"Time in Days\")\n",
    "plt.ylabel(\"Tumor Volume (mm3)\")\n",
    "plt.title(\"Tumor Volume (mm3) Over Time for Mouse s185 (treated with Capomulin)\")"
   ]
  },
  {
   "cell_type": "code",
   "execution_count": 45,
   "metadata": {},
   "outputs": [
    {
     "data": {
      "image/png": "[encoded data removed]",
      "text/plain": [
       "<Figure size 432x288 with 1 Axes>"
      ]
     },
     "metadata": {
      "needs_background": "light"
     },
     "output_type": "display_data"
    }
   ],
   "source": [
    "# Generate a scatter plot of mouse weight versus average tumor volume for the Capomulin regimen\n",
    "capomulin_mice = merged_df.set_index(\"Drug Regimen\")\n",
    "\n",
    "capomulin_mice = capomulin_mice.loc[\"Capomulin\"]\n",
    "\n",
    "capomulin_mice = capomulin_mice.groupby([\"Mouse ID\"])[\"Weight (g)\", \"Tumor Volume (mm3)\"].mean()\n",
    "\n",
    "capomulin_mice = capomulin_mice.rename(columns={\n",
    "    \"Weight (g)\": \"Average Weight in Grams\",\n",
    "    \"Tumor Volume (mm3)\": \"Average Tumor Volume (mm3)\"\n",
    "})\n",
    "\n",
    "x_values = capomulin_mice[\"Average Weight in Grams\"]\n",
    "y_values = capomulin_mice[\"Average Tumor Volume (mm3)\"]\n",
    "plt.scatter(x_values, y_values, marker=\"o\", facecolors=\"blue\", edgecolors=\"black\", alpha=0.75)\n",
    "\n",
    "plt.xlabel(\"Average Weight in Grams\")\n",
    "plt.ylabel(\"Average Tumor Volume (mm3)\")\n",
    "plt.title(\"Average Weight (g) vs Average Tumor Volume for mice with Capomulin Regimen\")\n",
    "plt.show()"
   ]
  },
  {
   "cell_type": "code",
   "execution_count": 46,
   "metadata": {},
   "outputs": [
    {
     "name": "stdout",
     "output_type": "stream",
     "text": [
      "The correlation between both average weight (g) and average tumor volume (mm3) is 0.84\n",
      "The r-squared value is: 0.7088568047708717\n"
     ]
    },
    {
     "data": {
      "image/png": "[encoded data removed]",
      "text/plain": [
       "<Figure size 432x288 with 1 Axes>"
      ]
     },
     "metadata": {
      "needs_background": "light"
     },
     "output_type": "display_data"
    }
   ],
   "source": [
    "# Calculate the correlation coefficient and linear regression model for mouse weight and average tumor volume for the Capomulin regimen\n",
    "\n",
    "correlation = st.pearsonr(x_values, y_values)\n",
    "print(f\"The correlation between both average weight (g) and average tumor volume (mm3) is {round(correlation[0],2)}\")\n",
    "\n",
    "# Calculate linear regression for average mouse weight and average tumor volume.\n",
    "(slope, intercept, rvalue, pvalue, stderr) = st.linregress(x_values, y_values)\n",
    "\n",
    "print(f\"The r-squared value is: {rvalue ** 2}\")\n",
    "\n",
    "regress_values = x_values * slope + intercept\n",
    "\n",
    "line_eq = \"y = \" + str(round(slope,2)) + \"x + \" + str(round(intercept,2))\n",
    "\n",
    "plt.scatter(x_values,y_values)\n",
    "plt.plot(x_values,regress_values,\"r-\")\n",
    "plt.annotate(line_eq,(20,37),fontsize=15,color=\"red\")\n",
    "\n",
    "plt.xlabel('Average Weight (g)')\n",
    "plt.ylabel('Average Tumor Volume (mm3)')\n",
    "plt.title(\"Average Weight (g) vs Average Tumor Volume for each mouse treated with the Capomulin Regimen\")\n",
    "plt.show()"
   ]
  },
  {
   "cell_type": "code",
   "execution_count": null,
   "metadata": {},
   "outputs": [],
   "source": []
  }
 ],
 "metadata": {
  "anaconda-cloud": {},
  "kernelspec": {
   "display_name": "Python 3",
   "language": "python",
   "name": "python3"
  },
  "language_info": {
   "codemirror_mode": {
    "name": "ipython",
    "version": 3
   },
   "file_extension": ".py",
   "mimetype": "text/x-python",
   "name": "python",
   "nbconvert_exporter": "python",
   "pygments_lexer": "ipython3",
   "version": "3.6.9"
  }
 },
 "nbformat": 4,
 "nbformat_minor": 2
}
